{
 "cells": [
  {
   "cell_type": "markdown",
   "id": "3c677f7c",
   "metadata": {},
   "source": [
    "# 노래"
   ]
  },
  {
   "cell_type": "code",
   "execution_count": 47,
   "id": "d97b0be4",
   "metadata": {},
   "outputs": [],
   "source": [
    "import pandas as pd\n",
    "import pprint\n",
    "import csv\n",
    "import os\n",
    "import re\n",
    "import time\n",
    "import spotipy\n",
    "from spotipy.oauth2 import SpotifyClientCredentials\n",
    "import pandas as pd\n",
    "import csv\n",
    "import re\n",
    "import spotipy\n",
    "from spotipy.oauth2 import SpotifyClientCredentials\n",
    "import spotipy\n",
    "import os\n",
    "import time\n",
    "from spotipy.oauth2 import SpotifyOAuth"
   ]
  },
  {
   "cell_type": "markdown",
   "id": "c39056f3",
   "metadata": {},
   "source": [
    "### 플레이 리스트 찾기"
   ]
  },
  {
   "cell_type": "code",
   "execution_count": 39,
   "id": "6f2cbfd5",
   "metadata": {},
   "outputs": [],
   "source": [
    "def searching_playList(input1,CLIENT_ID,CLIENT_SECRET):\n",
    "    client_credentials_manager = SpotifyClientCredentials(client_id=CLIENT_ID, client_secret=CLIENT_SECRET)\n",
    "    sp = spotipy.Spotify(client_credentials_manager=client_credentials_manager)\n",
    "    searching = input1\n",
    "    playlist_link = []\n",
    "    for i in range(1,10):\n",
    "        playlist_results = sp.search(q=searching, type='playlist', market='KR', limit=5, offset=i)\n",
    "        for i, t in enumerate(playlist_results['playlists']['items']):\n",
    "            playlist_link.append(t['external_urls']['spotify'])\n",
    "    return playlist_link"
   ]
  },
  {
   "cell_type": "markdown",
   "id": "2b42a952",
   "metadata": {},
   "source": [
    "### 노래 특성 뽑는 함수"
   ]
  },
  {
   "cell_type": "code",
   "execution_count": 42,
   "id": "23303f78",
   "metadata": {},
   "outputs": [],
   "source": [
    "def get_features(song,CLIENT_ID,CLIENT_SECRET):\n",
    "    client_credentials_manager = SpotifyClientCredentials(client_id=CLIENT_ID, client_secret=CLIENT_SECRET)\n",
    "    sp = spotipy.Spotify(client_credentials_manager=client_credentials_manager)\n",
    "\n",
    "    track_info = sp.search(q=song, type='track', market='KR',limit=10)\n",
    "    track_id = track_info[\"tracks\"][\"items\"][0][\"id\"]\n",
    "    features = sp.audio_features(tracks=[track_id])\n",
    "    \n",
    "    acousticness = features[0][\"acousticness\"]\n",
    "    danceability = features[0][\"danceability\"]\n",
    "    energy = features[0][\"energy\"]\n",
    "    liveness = features[0][\"liveness\"]\n",
    "    loudness = features[0][\"loudness\"]\n",
    "    tempo = features[0]['tempo']\n",
    "    time_signature = features[0]['time_signature']\n",
    "    valence = features[0][\"valence\"]\n",
    "    mode = features[0][\"mode\"]\n",
    "\n",
    "    result = {\"acousticness\" : acousticness,\n",
    "              \"danceability\" : danceability,\n",
    "              \"energy\" : energy,\n",
    "              \"loudness\" : loudness,\n",
    "              \"tempo\" : tempo,\n",
    "              \"valence\" : valence\n",
    "              }\n",
    "\n",
    "    return result"
   ]
  },
  {
   "cell_type": "markdown",
   "id": "b89154ac",
   "metadata": {},
   "source": [
    "## 메인 코드"
   ]
  },
  {
   "cell_type": "code",
   "execution_count": 43,
   "id": "c39f8e6c",
   "metadata": {},
   "outputs": [],
   "source": [
    "## 찐찐찐 최종\n",
    "def music_main(output_path,PLAYLIST_LINK,CLIENT_ID,CLIENT_SECRET):\n",
    "\n",
    "    # CSV 파일 저장 경로\n",
    "    OUTPUT_FILE_NAME = output_path\n",
    "\n",
    "    # Spotify 연결\n",
    "    client_credentials_manager = SpotifyClientCredentials(client_id=CLIENT_ID, client_secret=CLIENT_SECRET)\n",
    "    session = spotipy.Spotify(client_credentials_manager=client_credentials_manager)\n",
    "\n",
    "    # PlayList URL \n",
    "    #PLAYLIST_LINK = playlist_link[2]\n",
    "\n",
    "    # PlayList를 match 해서 spotigy와 연결\n",
    "    if match := re.match(r\"https://open.spotify.com/playlist/(.*)?\", PLAYLIST_LINK):\n",
    "        playlist_uri = match.groups()[0]\n",
    "    else:\n",
    "        raise ValueError(\"Expected format: https://open.spotify.com/playlist/...\")\n",
    "\n",
    "    # 플레이 리스트 안에 노래들 가져오기\n",
    "    tracks = session.playlist_tracks(playlist_uri)[\"items\"]\n",
    "\n",
    "    # # CSV 파일로 저장\n",
    "    with open(OUTPUT_FILE_NAME, \"w\", encoding=\"utf-8\") as file:\n",
    "        writer = csv.writer(file)\n",
    "        writer.writerow([\"track\", \"artist\", \"trackUri\",\"acousticness\", \"danceability\", \"energy\", \"loudness\", \n",
    "                         \"tempo\", \"valence\"])\n",
    "\n",
    "        # 가수 , 곡명 , 노래 특성 데이터 프레임 생성\n",
    "        for track in tracks:\n",
    "            name = track[\"track\"][\"name\"]\n",
    "            artists = \", \".join([artist[\"name\"] for artist in track[\"track\"][\"artists\"]])\n",
    "            trackUri = track['track']['uri']\n",
    "            track_uri = track[\"track\"][\"uri\"].split(\":\")[-1]\n",
    "\n",
    "            # 노래의 특성 추출\n",
    "            features = session.audio_features(tracks=[track_uri])\n",
    "            acousticness = features[0][\"acousticness\"]\n",
    "            danceability = features[0][\"danceability\"]\n",
    "            energy = features[0][\"energy\"]\n",
    "            loudness = features[0][\"loudness\"]\n",
    "            tempo = features[0][\"tempo\"]\n",
    "            valence = features[0][\"valence\"]\n",
    "\n",
    "            # CSV 파일로 저장\n",
    "            writer.writerow([name, artists,trackUri ,acousticness, danceability, energy, loudness, tempo, valence])\n",
    "\n",
    "    # 불러와서 확인\n",
    "    track_playlist = pd.read_csv(OUTPUT_FILE_NAME, encoding='utf-8')\n",
    "    return track_playlist"
   ]
  },
  {
   "cell_type": "markdown",
   "id": "5d80fa31",
   "metadata": {},
   "source": [
    "## 예시 music_main('./a.csv',playlist_link[0],CLIENT_ID,CLIENT_SECRET) "
   ]
  },
  {
   "cell_type": "markdown",
   "id": "9fbc764d",
   "metadata": {},
   "source": [
    "### 원하는 노래로 재생하는 코드"
   ]
  },
  {
   "cell_type": "code",
   "execution_count": 46,
   "id": "ccb014fd",
   "metadata": {},
   "outputs": [],
   "source": [
    "def music_playing(trackUri,redirectUri,CLIENT_ID,CLIENT_SECRET):\n",
    "\n",
    "    os.system(\"open /Applications/Spotify.app\")\n",
    "    time.sleep(4)\n",
    "\n",
    "\n",
    "    redirect_uri = 'http://localhost:8080/callback' \n",
    "    \n",
    "    scope = 'user-modify-playback-state user-read-playback-state'\n",
    "    sp = spotipy.Spotify(auth_manager=SpotifyOAuth(client_id=CLIENT_ID, client_secret=CLIENT_SECRET, redirect_uri=redirect_uri, scope=scope))\n",
    "\n",
    "    print(sp)\n",
    "    \n",
    "    devices = sp.devices()\n",
    "    device_id = None\n",
    "    print(devices)\n",
    "    \n",
    "    if devices['devices']:\n",
    "        device_id = devices['devices'][0]['id']  \n",
    "    top_recommendation_uri = trackUri\n",
    "    \n",
    "    return sp.start_playback(device_id=device_id, uris=[top_recommendation_uri])"
   ]
  }
 ],
 "metadata": {
  "kernelspec": {
   "display_name": "Python 3 (ipykernel)",
   "language": "python",
   "name": "python3"
  },
  "language_info": {
   "codemirror_mode": {
    "name": "ipython",
    "version": 3
   },
   "file_extension": ".py",
   "mimetype": "text/x-python",
   "name": "python",
   "nbconvert_exporter": "python",
   "pygments_lexer": "ipython3",
   "version": "3.11.7"
  }
 },
 "nbformat": 4,
 "nbformat_minor": 5
}
