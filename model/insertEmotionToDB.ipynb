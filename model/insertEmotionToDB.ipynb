{
 "cells": [
  {
   "cell_type": "code",
   "execution_count": 9,
   "id": "988be2f5",
   "metadata": {
    "scrolled": true
   },
   "outputs": [
    {
     "name": "stdout",
     "output_type": "stream",
     "text": [
      "Collecting pymysql\n",
      "  Using cached PyMySQL-1.1.0-py3-none-any.whl.metadata (4.4 kB)\n",
      "Using cached PyMySQL-1.1.0-py3-none-any.whl (44 kB)\n",
      "Installing collected packages: pymysql\n",
      "Successfully installed pymysql-1.1.0\n",
      "Note: you may need to restart the kernel to use updated packages.\n"
     ]
    }
   ],
   "source": [
    "pip install pymysql"
   ]
  },
  {
   "cell_type": "code",
   "execution_count": 1,
   "id": "468ee2d6",
   "metadata": {
    "scrolled": true
   },
   "outputs": [],
   "source": [
    "import pymysql\n",
    "from dotenv import load_dotenv\n",
    "import os"
   ]
  },
  {
   "cell_type": "code",
   "execution_count": 2,
   "id": "f6305676",
   "metadata": {},
   "outputs": [],
   "source": [
    "dotenv_path = './config/keys.env'"
   ]
  },
  {
   "cell_type": "code",
   "execution_count": 9,
   "id": "cb4f166f",
   "metadata": {},
   "outputs": [],
   "source": [
    "#이 셀은 감정 추출하는 함수의 일부가 되어야 할 부분이라 따로 함수로 만들지 않음\n",
    "user_id ='test' #이건 음성데이터와 별개로 SQL 문을 쓰기 위해 받아야 하는 값. 여기서는 임의로 이렇게 정의\n",
    "emotions_prob_list = ['Angry_prob','Disgust_prob','Fear_prob','Happiness_prob','Neutral_prob','Sadness_prob','Surprise_prob']\n",
    "cnt = 0\n",
    "\n",
    "#이 for문은 실제 구현할 땐 변수 설정만 남겨놓고 집어넣는 값은 모델에서 나온 값으로\n",
    "for i in emotions_prob_list:\n",
    "    locals()[f'{i}'] = 0 + round(cnt,2) \n",
    "    cnt+=1/21 \n",
    "    \n",
    "emotions_list = [i[:-5] for i in emotions_prob_list]\n",
    "emotions_dict={}\n",
    "for i in range(len(emotions_list)):\n",
    "    emotions_dict[locals()[f'{emotions_prob_list[i]}']] = emotions_list[i]   \n",
    "\n",
    "#가장 값이 높은 감정의 이름을 도출하여\n",
    "emotion  = emotions_dict[max(emotions_dict.keys())]"
   ]
  },
  {
   "cell_type": "code",
   "execution_count": 12,
   "id": "88adf1c3",
   "metadata": {
    "scrolled": true
   },
   "outputs": [],
   "source": [
    "#DB에 보낸다.\n",
    "def insert_emotion(emotion=emotion,user_id=user_id):\n",
    "    load_dotenv(dotenv_path)\n",
    "    host, port, user, password, db = os.getenv('MYSQL_HOST'),int(os.getenv('MYSQL_PORT')),os.getenv('MYSQL_USER'),os.getenv('MYSQL_PASSWORD'),os.getenv('MYSQL_DATABASE')\n",
    "    conn = pymysql.connect(host=host,port=port, user=user, \n",
    "                           password=password, db=db, charset='utf8')\n",
    "    try:\n",
    "        with conn.cursor() as cursor:\n",
    "            INSERT_SQL = \"\"\"\n",
    "                INSERT INTO TB_EMOTION (USER_ID, EMOTION_VAL) VALUES (%s, %s);\n",
    "            \"\"\"\n",
    "            cursor.execute(INSERT_SQL, (user_id, emotion))\n",
    "            conn.commit()\n",
    "    finally:\n",
    "        conn.close()"
   ]
  },
  {
   "cell_type": "code",
   "execution_count": 13,
   "id": "3c634350",
   "metadata": {},
   "outputs": [],
   "source": [
    "insert_emotion(emotion)"
   ]
  },
  {
   "cell_type": "code",
   "execution_count": null,
   "id": "c76cdbab",
   "metadata": {},
   "outputs": [],
   "source": []
  }
 ],
 "metadata": {
  "kernelspec": {
   "display_name": "Python 3 (ipykernel)",
   "language": "python",
   "name": "python3"
  },
  "language_info": {
   "codemirror_mode": {
    "name": "ipython",
    "version": 3
   },
   "file_extension": ".py",
   "mimetype": "text/x-python",
   "name": "python",
   "nbconvert_exporter": "python",
   "pygments_lexer": "ipython3",
   "version": "3.11.5"
  }
 },
 "nbformat": 4,
 "nbformat_minor": 5
}
