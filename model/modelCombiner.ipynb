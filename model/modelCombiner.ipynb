{
 "cells": [
  {
   "cell_type": "code",
   "execution_count": 1,
   "id": "0dea28d1",
   "metadata": {},
   "outputs": [],
   "source": [
    "import numpy as np\n",
    "import getTextFeature as gt\n",
    "from getTextFeature import ElectraForMultiClassClassification\n",
    "import getAudioFeature as ga"
   ]
  },
  {
   "cell_type": "code",
   "execution_count": 2,
   "id": "63974f45",
   "metadata": {},
   "outputs": [],
   "source": [
    "def modelEnsemble(user_input_audio,user_input_text):\n",
    "    pred1 = ga.getAudioOutputs(user_input_audio)\n",
    "    pred2 = gt.getTextOutputs(user_input_text)\n",
    "    \n",
    "    pred_index = np.argmax((pred1 + pred2) / 2) #배열로 나온 각 모델의 7개 클래스 확률 값을 평균화\n",
    "    emotions_list = ['Angry','Disgust','Fear','Happiness','Neutral','Sadness','Surprise']\n",
    "    return emotions_list[pred_index] #평균화된 값 중 최대인 값에 해당하는 감정을 return"
   ]
  },
  {
   "cell_type": "code",
   "execution_count": 3,
   "id": "41b60fd4",
   "metadata": {},
   "outputs": [],
   "source": [
    "import pandas as pd\n",
    "train_path = 'e:/Data2/train/'\n",
    "test_path = 'e:/Data2/test/'\n",
    "train_csv = pd.read_csv('./csv/train.csv')\n",
    "test_csv = pd.read_csv('./csv/test.csv')"
   ]
  },
  {
   "cell_type": "code",
   "execution_count": 24,
   "id": "f9d6808a",
   "metadata": {
    "scrolled": true
   },
   "outputs": [
    {
     "data": {
      "text/plain": [
       "array([1.9321149e-02, 1.0459173e-03, 2.1408091e-03, 9.0799842e-04,\n",
       "       2.4106417e-02, 9.5226371e-01, 2.1394732e-04], dtype=float32)"
      ]
     },
     "execution_count": 24,
     "metadata": {},
     "output_type": "execute_result"
    }
   ],
   "source": [
    "gt.getTextOutputs(test_csv['발화문'][1])"
   ]
  },
  {
   "cell_type": "code",
   "execution_count": 26,
   "id": "54209333",
   "metadata": {},
   "outputs": [
    {
     "name": "stderr",
     "output_type": "stream",
     "text": [
      "C:\\Users\\smhrd\\anaconda3\\Lib\\site-packages\\sklearn\\base.py:376: InconsistentVersionWarning: Trying to unpickle estimator RobustScaler from version 1.4.2 when using version 1.4.0. This might lead to breaking code or invalid results. Use at your own risk. For more info please refer to:\n",
      "https://scikit-learn.org/stable/model_persistence.html#security-maintainability-limitations\n",
      "  warnings.warn(\n"
     ]
    },
    {
     "name": "stdout",
     "output_type": "stream",
     "text": [
      "\u001b[1m1/1\u001b[0m \u001b[32m━━━━━━━━━━━━━━━━━━━━\u001b[0m\u001b[37m\u001b[0m \u001b[1m0s\u001b[0m 123ms/step\n"
     ]
    },
    {
     "data": {
      "text/plain": [
       "array([0.04127564, 0.01891705, 0.43377018, 0.00121117, 0.04653971,\n",
       "       0.45707434, 0.00121193], dtype=float32)"
      ]
     },
     "execution_count": 26,
     "metadata": {},
     "output_type": "execute_result"
    }
   ],
   "source": [
    "ga.getAudioOutputs('e:/Data2/exam/5fbe361844697678c497c07e.wav')"
   ]
  },
  {
   "cell_type": "code",
   "execution_count": 19,
   "id": "7c58a45b",
   "metadata": {},
   "outputs": [
    {
     "data": {
      "text/html": [
       "<div>\n",
       "<style scoped>\n",
       "    .dataframe tbody tr th:only-of-type {\n",
       "        vertical-align: middle;\n",
       "    }\n",
       "\n",
       "    .dataframe tbody tr th {\n",
       "        vertical-align: top;\n",
       "    }\n",
       "\n",
       "    .dataframe thead th {\n",
       "        text-align: right;\n",
       "    }\n",
       "</style>\n",
       "<table border=\"1\" class=\"dataframe\">\n",
       "  <thead>\n",
       "    <tr style=\"text-align: right;\">\n",
       "      <th></th>\n",
       "      <th>발화문</th>\n",
       "      <th>감정레이블</th>\n",
       "      <th>path</th>\n",
       "    </tr>\n",
       "  </thead>\n",
       "  <tbody>\n",
       "    <tr>\n",
       "      <th>0</th>\n",
       "      <td>헐! 나 이벤트에 당첨 되었어</td>\n",
       "      <td>3</td>\n",
       "      <td>5f9a29cdd338b948c4e6b09e.wav</td>\n",
       "    </tr>\n",
       "    <tr>\n",
       "      <th>1</th>\n",
       "      <td>회사가 너무 바빠서 1년만에 휴가를 냈어</td>\n",
       "      <td>5</td>\n",
       "      <td>5f620e492e23c7161accd423.wav</td>\n",
       "    </tr>\n",
       "    <tr>\n",
       "      <th>2</th>\n",
       "      <td>몸도 마음도 너무 지쳤어 못 버틸 것 같아</td>\n",
       "      <td>5</td>\n",
       "      <td>5f09ab52b140144dfcff1c6f.wav</td>\n",
       "    </tr>\n",
       "    <tr>\n",
       "      <th>3</th>\n",
       "      <td>응 근데 너무 꺼림칙해서 내가 버리기가 싫어</td>\n",
       "      <td>5</td>\n",
       "      <td>5fba1892576e9378b67ac76f.wav</td>\n",
       "    </tr>\n",
       "    <tr>\n",
       "      <th>4</th>\n",
       "      <td>응 내가 제일 갖고싶었던 거야</td>\n",
       "      <td>3</td>\n",
       "      <td>5fbe2771576e9378b67ad41a.wav</td>\n",
       "    </tr>\n",
       "    <tr>\n",
       "      <th>...</th>\n",
       "      <td>...</td>\n",
       "      <td>...</td>\n",
       "      <td>...</td>\n",
       "    </tr>\n",
       "    <tr>\n",
       "      <th>4397</th>\n",
       "      <td>비가 너무 많이 와서</td>\n",
       "      <td>2</td>\n",
       "      <td>5f6226ee3bd6941613f6d5d6.wav</td>\n",
       "    </tr>\n",
       "    <tr>\n",
       "      <th>4398</th>\n",
       "      <td>고마워 너 덕분에 그래도 조금 낫다 고마워</td>\n",
       "      <td>3</td>\n",
       "      <td>5fbb377ccb503578af9ee33e.wav</td>\n",
       "    </tr>\n",
       "    <tr>\n",
       "      <th>4399</th>\n",
       "      <td>친구랑 약속이 있어서 나왔는데 친구가 오지를 않아</td>\n",
       "      <td>0</td>\n",
       "      <td>5ece4b949aa8ea0eec53ef1e.wav</td>\n",
       "    </tr>\n",
       "    <tr>\n",
       "      <th>4400</th>\n",
       "      <td>남자친구랑 사귀면서 만든 추억이 너무 많아서 남자친구를 잊어버릴려면 시간이 많이 걸...</td>\n",
       "      <td>5</td>\n",
       "      <td>5f0b2ac2b140144dfcff2740.wav</td>\n",
       "    </tr>\n",
       "    <tr>\n",
       "      <th>4401</th>\n",
       "      <td>너무 실망스럽고 화가 나</td>\n",
       "      <td>0</td>\n",
       "      <td>5f636f143bd6941613f6d722.wav</td>\n",
       "    </tr>\n",
       "  </tbody>\n",
       "</table>\n",
       "<p>4402 rows × 3 columns</p>\n",
       "</div>"
      ],
      "text/plain": [
       "                                                    발화문  감정레이블  \\\n",
       "0                                      헐! 나 이벤트에 당첨 되었어      3   \n",
       "1                                회사가 너무 바빠서 1년만에 휴가를 냈어      5   \n",
       "2                               몸도 마음도 너무 지쳤어 못 버틸 것 같아      5   \n",
       "3                              응 근데 너무 꺼림칙해서 내가 버리기가 싫어      5   \n",
       "4                                      응 내가 제일 갖고싶었던 거야      3   \n",
       "...                                                 ...    ...   \n",
       "4397                                        비가 너무 많이 와서      2   \n",
       "4398                            고마워 너 덕분에 그래도 조금 낫다 고마워      3   \n",
       "4399                        친구랑 약속이 있어서 나왔는데 친구가 오지를 않아      0   \n",
       "4400  남자친구랑 사귀면서 만든 추억이 너무 많아서 남자친구를 잊어버릴려면 시간이 많이 걸...      5   \n",
       "4401                                      너무 실망스럽고 화가 나      0   \n",
       "\n",
       "                              path  \n",
       "0     5f9a29cdd338b948c4e6b09e.wav  \n",
       "1     5f620e492e23c7161accd423.wav  \n",
       "2     5f09ab52b140144dfcff1c6f.wav  \n",
       "3     5fba1892576e9378b67ac76f.wav  \n",
       "4     5fbe2771576e9378b67ad41a.wav  \n",
       "...                            ...  \n",
       "4397  5f6226ee3bd6941613f6d5d6.wav  \n",
       "4398  5fbb377ccb503578af9ee33e.wav  \n",
       "4399  5ece4b949aa8ea0eec53ef1e.wav  \n",
       "4400  5f0b2ac2b140144dfcff2740.wav  \n",
       "4401  5f636f143bd6941613f6d722.wav  \n",
       "\n",
       "[4402 rows x 3 columns]"
      ]
     },
     "execution_count": 19,
     "metadata": {},
     "output_type": "execute_result"
    }
   ],
   "source": [
    "# train_csv = train_csv.loc[:,('발화문','감정레이블','path')]\n",
    "# test_csv = test_csv.loc[:,('발화문','감정레이블','path')]\n",
    "test_path = 'e:/data2/test/'\n",
    "test_csv"
   ]
  },
  {
   "cell_type": "code",
   "execution_count": 25,
   "id": "de99d472",
   "metadata": {
    "scrolled": true
   },
   "outputs": [
    {
     "name": "stderr",
     "output_type": "stream",
     "text": [
      "C:\\Users\\smhrd\\anaconda3\\Lib\\site-packages\\sklearn\\base.py:376: InconsistentVersionWarning: Trying to unpickle estimator RobustScaler from version 1.4.2 when using version 1.4.0. This might lead to breaking code or invalid results. Use at your own risk. For more info please refer to:\n",
      "https://scikit-learn.org/stable/model_persistence.html#security-maintainability-limitations\n",
      "  warnings.warn(\n"
     ]
    },
    {
     "name": "stdout",
     "output_type": "stream",
     "text": [
      "WARNING:tensorflow:5 out of the last 5 calls to <function TensorFlowTrainer.make_predict_function.<locals>.one_step_on_data_distributed at 0x00000148239C2200> triggered tf.function retracing. Tracing is expensive and the excessive number of tracings could be due to (1) creating @tf.function repeatedly in a loop, (2) passing tensors with different shapes, (3) passing Python objects instead of tensors. For (1), please define your @tf.function outside of the loop. For (2), @tf.function has reduce_retracing=True option that can avoid unnecessary retracing. For (3), please refer to https://www.tensorflow.org/guide/function#controlling_retracing and https://www.tensorflow.org/api_docs/python/tf/function for  more details.\n",
      "\u001b[1m1/1\u001b[0m \u001b[32m━━━━━━━━━━━━━━━━━━━━\u001b[0m\u001b[37m\u001b[0m \u001b[1m0s\u001b[0m 115ms/step\n"
     ]
    },
    {
     "name": "stderr",
     "output_type": "stream",
     "text": [
      "C:\\Users\\smhrd\\anaconda3\\Lib\\site-packages\\huggingface_hub\\file_download.py:1132: FutureWarning: `resume_download` is deprecated and will be removed in version 1.0.0. Downloads always resume when possible. If you want to force a new download, use `force_download=True`.\n",
      "  warnings.warn(\n"
     ]
    },
    {
     "data": {
      "text/plain": [
       "'Sadness'"
      ]
     },
     "execution_count": 25,
     "metadata": {},
     "output_type": "execute_result"
    }
   ],
   "source": [
    "modelEnsemble(test_path+test_csv['path'][1],test_csv['발화문'][1])"
   ]
  },
  {
   "cell_type": "code",
   "execution_count": null,
   "id": "5ea87d3e",
   "metadata": {},
   "outputs": [],
   "source": []
  }
 ],
 "metadata": {
  "kernelspec": {
   "display_name": "Python 3 (ipykernel)",
   "language": "python",
   "name": "python3"
  },
  "language_info": {
   "codemirror_mode": {
    "name": "ipython",
    "version": 3
   },
   "file_extension": ".py",
   "mimetype": "text/x-python",
   "name": "python",
   "nbconvert_exporter": "python",
   "pygments_lexer": "ipython3",
   "version": "3.11.5"
  }
 },
 "nbformat": 4,
 "nbformat_minor": 5
}
