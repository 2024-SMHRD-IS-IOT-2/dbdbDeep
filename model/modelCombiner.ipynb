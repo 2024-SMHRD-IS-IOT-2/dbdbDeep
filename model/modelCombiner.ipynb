{
 "cells": [
  {
   "cell_type": "code",
   "execution_count": 1,
   "id": "0dea28d1",
   "metadata": {},
   "outputs": [],
   "source": [
    "import numpy as np\n",
    "import getTextFeature as gt\n",
    "from getTextFeature import ElectraForMultiClassClassification\n",
    "import getAudioFeature as ga"
   ]
  },
  {
   "cell_type": "code",
   "execution_count": 2,
   "id": "63974f45",
   "metadata": {},
   "outputs": [],
   "source": [
    "def modelEnsemble(user_input_audio,user_input_text):\n",
    "    pred1 = ga.getAudioOutputs(user_input_audio)\n",
    "    pred2 = gt.getTextOutputs(user_input_text)\n",
    "    \n",
    "    pred_index = np.argmax((pred1 + pred2) / 2) #배열로 나온 각 모델의 7개 클래스 확률 값을 평균화\n",
    "    emotions_list = ['Angry','Disgust','Fear','Happiness','Neutral','Sadness','Surprise']\n",
    "    return emotions_list[pred_index] #평균화된 값 중 최대인 값에 해당하는 감정을 return"
   ]
  },
  {
   "cell_type": "code",
   "execution_count": 3,
   "id": "41b60fd4",
   "metadata": {},
   "outputs": [],
   "source": [
    "import pandas as pd\n",
    "train_path = 'e:/Data2/train/'\n",
    "test_path = 'e:/Data2/test/'\n",
    "train_csv = pd.read_csv('./csv/train.csv')\n",
    "test_csv = pd.read_csv('./csv/test.csv')"
   ]
  },
  {
   "cell_type": "code",
   "execution_count": 24,
   "id": "f9d6808a",
   "metadata": {
    "scrolled": true
   },
   "outputs": [
    {
     "data": {
      "text/plain": [
       "array([1.9321149e-02, 1.0459173e-03, 2.1408091e-03, 9.0799842e-04,\n",
       "       2.4106417e-02, 9.5226371e-01, 2.1394732e-04], dtype=float32)"
      ]
     },
     "execution_count": 24,
     "metadata": {},
     "output_type": "execute_result"
    }
   ],
   "source": [
    "gt.getTextOutputs(test_csv['발화문'][1])"
   ]
  },
  {
   "cell_type": "code",
   "execution_count": 26,
   "id": "54209333",
   "metadata": {},
   "outputs": [
    {
     "name": "stderr",
     "output_type": "stream",
     "text": [
      "C:\\Users\\smhrd\\anaconda3\\Lib\\site-packages\\sklearn\\base.py:376: InconsistentVersionWarning: Trying to unpickle estimator RobustScaler from version 1.4.2 when using version 1.4.0. This might lead to breaking code or invalid results. Use at your own risk. For more info please refer to:\n",
      "https://scikit-learn.org/stable/model_persistence.html#security-maintainability-limitations\n",
      "  warnings.warn(\n"
     ]
    },
    {
     "name": "stdout",
     "output_type": "stream",
     "text": [
      "\u001b[1m1/1\u001b[0m \u001b[32m━━━━━━━━━━━━━━━━━━━━\u001b[0m\u001b[37m\u001b[0m \u001b[1m0s\u001b[0m 123ms/step\n"
     ]
    },
    {
     "data": {
      "text/plain": [
       "array([0.04127564, 0.01891705, 0.43377018, 0.00121117, 0.04653971,\n",
       "       0.45707434, 0.00121193], dtype=float32)"
      ]
     },
     "execution_count": 26,
     "metadata": {},
     "output_type": "execute_result"
    }
   ],
   "source": [
    "ga.getAudioOutputs('e:/Data2/exam/5fbe361844697678c497c07e.wav')"
   ]
  },
  {
   "cell_type": "code",
   "execution_count": 25,
   "id": "de99d472",
   "metadata": {
    "scrolled": true
   },
   "outputs": [
    {
     "name": "stderr",
     "output_type": "stream",
     "text": [
      "C:\\Users\\smhrd\\anaconda3\\Lib\\site-packages\\sklearn\\base.py:376: InconsistentVersionWarning: Trying to unpickle estimator RobustScaler from version 1.4.2 when using version 1.4.0. This might lead to breaking code or invalid results. Use at your own risk. For more info please refer to:\n",
      "https://scikit-learn.org/stable/model_persistence.html#security-maintainability-limitations\n",
      "  warnings.warn(\n"
     ]
    },
    {
     "name": "stdout",
     "output_type": "stream",
     "text": [
      "WARNING:tensorflow:5 out of the last 5 calls to <function TensorFlowTrainer.make_predict_function.<locals>.one_step_on_data_distributed at 0x00000148239C2200> triggered tf.function retracing. Tracing is expensive and the excessive number of tracings could be due to (1) creating @tf.function repeatedly in a loop, (2) passing tensors with different shapes, (3) passing Python objects instead of tensors. For (1), please define your @tf.function outside of the loop. For (2), @tf.function has reduce_retracing=True option that can avoid unnecessary retracing. For (3), please refer to https://www.tensorflow.org/guide/function#controlling_retracing and https://www.tensorflow.org/api_docs/python/tf/function for  more details.\n",
      "\u001b[1m1/1\u001b[0m \u001b[32m━━━━━━━━━━━━━━━━━━━━\u001b[0m\u001b[37m\u001b[0m \u001b[1m0s\u001b[0m 115ms/step\n"
     ]
    },
    {
     "name": "stderr",
     "output_type": "stream",
     "text": [
      "C:\\Users\\smhrd\\anaconda3\\Lib\\site-packages\\huggingface_hub\\file_download.py:1132: FutureWarning: `resume_download` is deprecated and will be removed in version 1.0.0. Downloads always resume when possible. If you want to force a new download, use `force_download=True`.\n",
      "  warnings.warn(\n"
     ]
    },
    {
     "data": {
      "text/plain": [
       "'Sadness'"
      ]
     },
     "execution_count": 25,
     "metadata": {},
     "output_type": "execute_result"
    }
   ],
   "source": [
    "modelEnsemble(test_path+test_csv['path'][1],test_csv['발화문'][1])"
   ]
  },
  {
   "cell_type": "code",
   "execution_count": null,
   "id": "5ea87d3e",
   "metadata": {},
   "outputs": [],
   "source": []
  }
 ],
 "metadata": {
  "kernelspec": {
   "display_name": "Python 3 (ipykernel)",
   "language": "python",
   "name": "python3"
  },
  "language_info": {
   "codemirror_mode": {
    "name": "ipython",
    "version": 3
   },
   "file_extension": ".py",
   "mimetype": "text/x-python",
   "name": "python",
   "nbconvert_exporter": "python",
   "pygments_lexer": "ipython3",
   "version": "3.11.5"
  }
 },
 "nbformat": 4,
 "nbformat_minor": 5
}
